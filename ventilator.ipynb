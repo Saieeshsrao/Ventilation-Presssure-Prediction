{
 "cells": [
  {
   "cell_type": "code",
   "execution_count": 1,
   "id": "a8e54371-923f-4d68-936a-550d4ee24b75",
   "metadata": {},
   "outputs": [],
   "source": [
    "import numpy as np\n",
    "import pandas as pd\n",
    "\n",
    "import matplotlib.pyplot as plt\n",
    "from sklearn.model_selection import train_test_split\n",
    "from sklearn.metrics import mean_absolute_error\n",
    "from sklearn.linear_model import LinearRegression\n",
    "from sklearn.tree import DecisionTreeRegressor\n",
    "from sklearn.ensemble import RandomForestRegressor\n",
    "from sklearn.ensemble import ExtraTreesRegressor"
   ]
  },
  {
   "cell_type": "code",
   "execution_count": 2,
   "id": "2e71e72e-a4a6-49b6-bf2a-acd49e7e9e17",
   "metadata": {},
   "outputs": [],
   "source": [
    "def plot_create(x, y):\n",
    "    plt.plot(x, y, '-', label=y.name)\n",
    "\n",
    "def process_visualisation_with_preds(df, df_preds, breath_id):\n",
    "    plt.figure(figsize=(14, 6))\n",
    "    plt.title('Breath Id - {}'.format(breath_id))\n",
    "    plot_create(df[df['breath_id'] == breath_id]['time_step'],\n",
    "                df[df['breath_id'] == breath_id]['pressure'])\n",
    "    plot_create(df[df['breath_id'] == breath_id]['time_step'],\n",
    "                df_preds)\n",
    "    plt.grid()\n",
    "    plt.legend()\n",
    "    plt.ylabel('Value')\n",
    "    plt.show()\n",
    "\n",
    "def add_features(df):\n",
    "    df['u_in_cumsum'] = df['u_in'].groupby(df['breath_id']).cumsum()\n",
    "    df['u_in_lag_1'] = df.groupby('breath_id')['u_in'].shift(1)\n",
    "    df['u_in_lag_2'] = df.groupby('breath_id')['u_in'].shift(2)\n",
    "    df['u_in_lag_3'] = df.groupby('breath_id')['u_in'].shift(3)\n",
    "    df['u_in_rolling_mean_3'] = df.groupby('breath_id')['u_in'].shift().rolling(3).mean()\n",
    "    df['u_in_rolling_mean_5'] = df.groupby('breath_id')['u_in'].shift().rolling(5).mean()\n",
    "    df['u_in_begin'] = df.groupby('breath_id')['u_in'].transform('first')\n",
    "    df['u_in_end'] = df.groupby('breath_id')['u_in'].transform('last')\n",
    "    df['u_in_min'] = df.groupby('breath_id')['u_in'].transform('min')\n",
    "    df['u_in_max'] = df.groupby('breath_id')['u_in'].transform('max')\n",
    "    df['u_in_median'] = df.groupby('breath_id')['u_in'].transform('median')\n",
    "    df = df.fillna(0)\n",
    "    df = df.drop(['breath_id', 'u_in', 'u_out'], axis=1)\n",
    "    return df\n",
    "\n",
    "def train_and_score(model, X_train, X_valid, y_train, y_valid):\n",
    "    model.fit(X_train, y_train)\n",
    "    return mean_absolute_error(y_valid, model.predict(X_valid))"
   ]
  },
  {
   "cell_type": "code",
   "execution_count": 3,
   "id": "8fce20c1-24d8-4eeb-a924-f5de11103464",
   "metadata": {},
   "outputs": [],
   "source": [
    "df_train = pd.read_csv('train.csv')\n",
    "df_train = df_train.drop('id', axis=1)"
   ]
  },
  {
   "cell_type": "code",
   "execution_count": 4,
   "id": "0e96b55e-9c34-4c1b-823c-c156067f2bd5",
   "metadata": {},
   "outputs": [],
   "source": [
    "N = 150000\n",
    "\n",
    "X = df_train[:N].copy()\n",
    "X = X.drop('pressure', axis=1)\n",
    "X = add_features(X)\n",
    "y = df_train[:N]['pressure']\n",
    "\n",
    "X_train, X_valid, y_train, y_valid = train_test_split(X, y, test_size=0.2, random_state=555)"
   ]
  },
  {
   "cell_type": "code",
   "execution_count": 5,
   "id": "46740c59-0156-4d1d-99e0-73b2e8391b4f",
   "metadata": {},
   "outputs": [],
   "source": [
    "linear_model = LinearRegression()\n",
    "tree_model = DecisionTreeRegressor()\n",
    "rf_model = RandomForestRegressor()\n",
    "et_model = ExtraTreesRegressor()"
   ]
  },
  {
   "cell_type": "code",
   "execution_count": null,
   "id": "a07b6a69-e172-4de5-aa64-7c87934d3cdd",
   "metadata": {},
   "outputs": [],
   "source": [
    "display(\n",
    "    pd.DataFrame(data=([train_and_score(linear_model, X_train, X_valid, y_train, y_valid)],\n",
    "                       [train_and_score(tree_model, X_train, X_valid, y_train, y_valid)],\n",
    "                       [train_and_score(rf_model, X_train, X_valid, y_train, y_valid)],\n",
    "                       [train_and_score(et_model, X_train, X_valid, y_train, y_valid)]\n",
    "                      ),\n",
    "                 columns=['Result MAE'],\n",
    "                 index=['Linear', 'Decision Tree', 'Random Forest', 'Extra Trees'])\n",
    ")"
   ]
  },
  {
   "cell_type": "code",
   "execution_count": null,
   "id": "ddbea028-c6d0-491c-a463-8b96b3a3bbc4",
   "metadata": {},
   "outputs": [],
   "source": [
    "bid = 16600\n",
    "\n",
    "X_df_vis = df_train[df_train['breath_id'] == bid].reset_index()\n",
    "X_df_vis = add_features(X_df_vis)\n",
    "X_df_vis = X_df_vis.drop(['index', 'pressure'], axis=1)\n",
    "\n",
    "print('Pressure predictions by Linear Model:')\n",
    "process_visualisation_with_preds(df_train, pd.Series(linear_model.predict(X_df_vis), name='predictions'), bid)\n",
    "print('Pressure predictions by Tree Model:')\n",
    "process_visualisation_with_preds(df_train, pd.Series(tree_model.predict(X_df_vis), name='predictions'), bid)\n",
    "print('Pressure predictions by Random Forest Model:')\n",
    "process_visualisation_with_preds(df_train, pd.Series(rf_model.predict(X_df_vis), name='predictions'), bid)\n",
    "print('Pressure predictions by Extra Trees Model:')\n",
    "process_visualisation_with_preds(df_train, pd.Series(et_model.predict(X_df_vis), name='predictions'), bid)"
   ]
  },
  {
   "cell_type": "code",
   "execution_count": null,
   "id": "4e011a83-57bb-4b64-a60a-37936c8b5172",
   "metadata": {},
   "outputs": [],
   "source": []
  }
 ],
 "metadata": {
  "kernelspec": {
   "display_name": "Python 3 (ipykernel)",
   "language": "python",
   "name": "python3"
  },
  "language_info": {
   "codemirror_mode": {
    "name": "ipython",
    "version": 3
   },
   "file_extension": ".py",
   "mimetype": "text/x-python",
   "name": "python",
   "nbconvert_exporter": "python",
   "pygments_lexer": "ipython3",
   "version": "3.8.10"
  }
 },
 "nbformat": 4,
 "nbformat_minor": 5
}
